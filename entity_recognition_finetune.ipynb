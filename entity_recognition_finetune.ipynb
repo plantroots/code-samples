{
  "nbformat": 4,
  "nbformat_minor": 0,
  "metadata": {
    "accelerator": "GPU",
    "colab": {
      "provenance": [],
      "collapsed_sections": [],
      "toc_visible": true,
      "machine_shape": "hm"
    },
    "kernelspec": {
      "display_name": "Python 3",
      "name": "python3"
    },
    "widgets": {
      "application/vnd.jupyter.widget-state+json": {
        "ffaae30d401f406da5426dcba1f07387": {
          "model_module": "@jupyter-widgets/controls",
          "model_name": "HBoxModel",
          "model_module_version": "1.5.0",
          "state": {
            "_dom_classes": [],
            "_model_module": "@jupyter-widgets/controls",
            "_model_module_version": "1.5.0",
            "_model_name": "HBoxModel",
            "_view_count": null,
            "_view_module": "@jupyter-widgets/controls",
            "_view_module_version": "1.5.0",
            "_view_name": "HBoxView",
            "box_style": "",
            "children": [
              "IPY_MODEL_ca516745661c4a73aaec8e94dba92a6e",
              "IPY_MODEL_d5c46ba872574673bf13b7bd77712617"
            ],
            "layout": "IPY_MODEL_ece012ff9a83446e993f38507db4d43b"
          }
        },
        "ca516745661c4a73aaec8e94dba92a6e": {
          "model_module": "@jupyter-widgets/controls",
          "model_name": "FloatProgressModel",
          "model_module_version": "1.5.0",
          "state": {
            "_dom_classes": [],
            "_model_module": "@jupyter-widgets/controls",
            "_model_module_version": "1.5.0",
            "_model_name": "FloatProgressModel",
            "_view_count": null,
            "_view_module": "@jupyter-widgets/controls",
            "_view_module_version": "1.5.0",
            "_view_name": "ProgressView",
            "bar_style": "success",
            "description": "Downloading: 100%",
            "description_tooltip": null,
            "layout": "IPY_MODEL_0c36ec1d87e14fceb9e39939fbe74004",
            "max": 699,
            "min": 0,
            "orientation": "horizontal",
            "style": "IPY_MODEL_daf8511045b8444a88d211b224ff7b54",
            "value": 699
          }
        },
        "d5c46ba872574673bf13b7bd77712617": {
          "model_module": "@jupyter-widgets/controls",
          "model_name": "HTMLModel",
          "model_module_version": "1.5.0",
          "state": {
            "_dom_classes": [],
            "_model_module": "@jupyter-widgets/controls",
            "_model_module_version": "1.5.0",
            "_model_name": "HTMLModel",
            "_view_count": null,
            "_view_module": "@jupyter-widgets/controls",
            "_view_module_version": "1.5.0",
            "_view_name": "HTMLView",
            "description": "",
            "description_tooltip": null,
            "layout": "IPY_MODEL_9cf9669616474702b31a702612e3b717",
            "placeholder": "​",
            "style": "IPY_MODEL_f575e05cd5844108917d4055600e08f3",
            "value": " 699/699 [00:01&lt;00:00, 557B/s]"
          }
        },
        "ece012ff9a83446e993f38507db4d43b": {
          "model_module": "@jupyter-widgets/base",
          "model_name": "LayoutModel",
          "model_module_version": "1.2.0",
          "state": {
            "_model_module": "@jupyter-widgets/base",
            "_model_module_version": "1.2.0",
            "_model_name": "LayoutModel",
            "_view_count": null,
            "_view_module": "@jupyter-widgets/base",
            "_view_module_version": "1.2.0",
            "_view_name": "LayoutView",
            "align_content": null,
            "align_items": null,
            "align_self": null,
            "border": null,
            "bottom": null,
            "display": null,
            "flex": null,
            "flex_flow": null,
            "grid_area": null,
            "grid_auto_columns": null,
            "grid_auto_flow": null,
            "grid_auto_rows": null,
            "grid_column": null,
            "grid_gap": null,
            "grid_row": null,
            "grid_template_areas": null,
            "grid_template_columns": null,
            "grid_template_rows": null,
            "height": null,
            "justify_content": null,
            "justify_items": null,
            "left": null,
            "margin": null,
            "max_height": null,
            "max_width": null,
            "min_height": null,
            "min_width": null,
            "object_fit": null,
            "object_position": null,
            "order": null,
            "overflow": null,
            "overflow_x": null,
            "overflow_y": null,
            "padding": null,
            "right": null,
            "top": null,
            "visibility": null,
            "width": null
          }
        },
        "0c36ec1d87e14fceb9e39939fbe74004": {
          "model_module": "@jupyter-widgets/base",
          "model_name": "LayoutModel",
          "model_module_version": "1.2.0",
          "state": {
            "_model_module": "@jupyter-widgets/base",
            "_model_module_version": "1.2.0",
            "_model_name": "LayoutModel",
            "_view_count": null,
            "_view_module": "@jupyter-widgets/base",
            "_view_module_version": "1.2.0",
            "_view_name": "LayoutView",
            "align_content": null,
            "align_items": null,
            "align_self": null,
            "border": null,
            "bottom": null,
            "display": null,
            "flex": null,
            "flex_flow": null,
            "grid_area": null,
            "grid_auto_columns": null,
            "grid_auto_flow": null,
            "grid_auto_rows": null,
            "grid_column": null,
            "grid_gap": null,
            "grid_row": null,
            "grid_template_areas": null,
            "grid_template_columns": null,
            "grid_template_rows": null,
            "height": null,
            "justify_content": null,
            "justify_items": null,
            "left": null,
            "margin": null,
            "max_height": null,
            "max_width": null,
            "min_height": null,
            "min_width": null,
            "object_fit": null,
            "object_position": null,
            "order": null,
            "overflow": null,
            "overflow_x": null,
            "overflow_y": null,
            "padding": null,
            "right": null,
            "top": null,
            "visibility": null,
            "width": null
          }
        },
        "daf8511045b8444a88d211b224ff7b54": {
          "model_module": "@jupyter-widgets/controls",
          "model_name": "ProgressStyleModel",
          "model_module_version": "1.5.0",
          "state": {
            "_model_module": "@jupyter-widgets/controls",
            "_model_module_version": "1.5.0",
            "_model_name": "ProgressStyleModel",
            "_view_count": null,
            "_view_module": "@jupyter-widgets/base",
            "_view_module_version": "1.2.0",
            "_view_name": "StyleView",
            "bar_color": null,
            "description_width": "initial"
          }
        },
        "9cf9669616474702b31a702612e3b717": {
          "model_module": "@jupyter-widgets/base",
          "model_name": "LayoutModel",
          "model_module_version": "1.2.0",
          "state": {
            "_model_module": "@jupyter-widgets/base",
            "_model_module_version": "1.2.0",
            "_model_name": "LayoutModel",
            "_view_count": null,
            "_view_module": "@jupyter-widgets/base",
            "_view_module_version": "1.2.0",
            "_view_name": "LayoutView",
            "align_content": null,
            "align_items": null,
            "align_self": null,
            "border": null,
            "bottom": null,
            "display": null,
            "flex": null,
            "flex_flow": null,
            "grid_area": null,
            "grid_auto_columns": null,
            "grid_auto_flow": null,
            "grid_auto_rows": null,
            "grid_column": null,
            "grid_gap": null,
            "grid_row": null,
            "grid_template_areas": null,
            "grid_template_columns": null,
            "grid_template_rows": null,
            "height": null,
            "justify_content": null,
            "justify_items": null,
            "left": null,
            "margin": null,
            "max_height": null,
            "max_width": null,
            "min_height": null,
            "min_width": null,
            "object_fit": null,
            "object_position": null,
            "order": null,
            "overflow": null,
            "overflow_x": null,
            "overflow_y": null,
            "padding": null,
            "right": null,
            "top": null,
            "visibility": null,
            "width": null
          }
        },
        "f575e05cd5844108917d4055600e08f3": {
          "model_module": "@jupyter-widgets/controls",
          "model_name": "DescriptionStyleModel",
          "model_module_version": "1.5.0",
          "state": {
            "_model_module": "@jupyter-widgets/controls",
            "_model_module_version": "1.5.0",
            "_model_name": "DescriptionStyleModel",
            "_view_count": null,
            "_view_module": "@jupyter-widgets/base",
            "_view_module_version": "1.2.0",
            "_view_name": "StyleView",
            "description_width": ""
          }
        },
        "785c8a620ac240618701d8908d1b4098": {
          "model_module": "@jupyter-widgets/controls",
          "model_name": "HBoxModel",
          "model_module_version": "1.5.0",
          "state": {
            "_dom_classes": [],
            "_model_module": "@jupyter-widgets/controls",
            "_model_module_version": "1.5.0",
            "_model_name": "HBoxModel",
            "_view_count": null,
            "_view_module": "@jupyter-widgets/controls",
            "_view_module_version": "1.5.0",
            "_view_name": "HBoxView",
            "box_style": "",
            "children": [
              "IPY_MODEL_1d7ecdb047b648a4b1bfccfbdd2cdbb0",
              "IPY_MODEL_a2f80582bb7b41a19ba348f4bcbf83e7"
            ],
            "layout": "IPY_MODEL_451d6985a9ef4eda83cbe48d69d63585"
          }
        },
        "1d7ecdb047b648a4b1bfccfbdd2cdbb0": {
          "model_module": "@jupyter-widgets/controls",
          "model_name": "FloatProgressModel",
          "model_module_version": "1.5.0",
          "state": {
            "_dom_classes": [],
            "_model_module": "@jupyter-widgets/controls",
            "_model_module_version": "1.5.0",
            "_model_name": "FloatProgressModel",
            "_view_count": null,
            "_view_module": "@jupyter-widgets/controls",
            "_view_module_version": "1.5.0",
            "_view_name": "ProgressView",
            "bar_style": "success",
            "description": "Downloading: 100%",
            "description_tooltip": null,
            "layout": "IPY_MODEL_a3a00624eca543f8b7c1c307ee609b97",
            "max": 5069051,
            "min": 0,
            "orientation": "horizontal",
            "style": "IPY_MODEL_b4eb49a58cc3429f98dd2f56cb13bd95",
            "value": 5069051
          }
        },
        "a2f80582bb7b41a19ba348f4bcbf83e7": {
          "model_module": "@jupyter-widgets/controls",
          "model_name": "HTMLModel",
          "model_module_version": "1.5.0",
          "state": {
            "_dom_classes": [],
            "_model_module": "@jupyter-widgets/controls",
            "_model_module_version": "1.5.0",
            "_model_name": "HTMLModel",
            "_view_count": null,
            "_view_module": "@jupyter-widgets/controls",
            "_view_module_version": "1.5.0",
            "_view_name": "HTMLView",
            "description": "",
            "description_tooltip": null,
            "layout": "IPY_MODEL_d73986cd4908426baf800f8f256991e5",
            "placeholder": "​",
            "style": "IPY_MODEL_a2d5ead55d6b43a9922814424a5af1d9",
            "value": " 5.07M/5.07M [00:05&lt;00:00, 866kB/s]"
          }
        },
        "451d6985a9ef4eda83cbe48d69d63585": {
          "model_module": "@jupyter-widgets/base",
          "model_name": "LayoutModel",
          "model_module_version": "1.2.0",
          "state": {
            "_model_module": "@jupyter-widgets/base",
            "_model_module_version": "1.2.0",
            "_model_name": "LayoutModel",
            "_view_count": null,
            "_view_module": "@jupyter-widgets/base",
            "_view_module_version": "1.2.0",
            "_view_name": "LayoutView",
            "align_content": null,
            "align_items": null,
            "align_self": null,
            "border": null,
            "bottom": null,
            "display": null,
            "flex": null,
            "flex_flow": null,
            "grid_area": null,
            "grid_auto_columns": null,
            "grid_auto_flow": null,
            "grid_auto_rows": null,
            "grid_column": null,
            "grid_gap": null,
            "grid_row": null,
            "grid_template_areas": null,
            "grid_template_columns": null,
            "grid_template_rows": null,
            "height": null,
            "justify_content": null,
            "justify_items": null,
            "left": null,
            "margin": null,
            "max_height": null,
            "max_width": null,
            "min_height": null,
            "min_width": null,
            "object_fit": null,
            "object_position": null,
            "order": null,
            "overflow": null,
            "overflow_x": null,
            "overflow_y": null,
            "padding": null,
            "right": null,
            "top": null,
            "visibility": null,
            "width": null
          }
        },
        "a3a00624eca543f8b7c1c307ee609b97": {
          "model_module": "@jupyter-widgets/base",
          "model_name": "LayoutModel",
          "model_module_version": "1.2.0",
          "state": {
            "_model_module": "@jupyter-widgets/base",
            "_model_module_version": "1.2.0",
            "_model_name": "LayoutModel",
            "_view_count": null,
            "_view_module": "@jupyter-widgets/base",
            "_view_module_version": "1.2.0",
            "_view_name": "LayoutView",
            "align_content": null,
            "align_items": null,
            "align_self": null,
            "border": null,
            "bottom": null,
            "display": null,
            "flex": null,
            "flex_flow": null,
            "grid_area": null,
            "grid_auto_columns": null,
            "grid_auto_flow": null,
            "grid_auto_rows": null,
            "grid_column": null,
            "grid_gap": null,
            "grid_row": null,
            "grid_template_areas": null,
            "grid_template_columns": null,
            "grid_template_rows": null,
            "height": null,
            "justify_content": null,
            "justify_items": null,
            "left": null,
            "margin": null,
            "max_height": null,
            "max_width": null,
            "min_height": null,
            "min_width": null,
            "object_fit": null,
            "object_position": null,
            "order": null,
            "overflow": null,
            "overflow_x": null,
            "overflow_y": null,
            "padding": null,
            "right": null,
            "top": null,
            "visibility": null,
            "width": null
          }
        },
        "b4eb49a58cc3429f98dd2f56cb13bd95": {
          "model_module": "@jupyter-widgets/controls",
          "model_name": "ProgressStyleModel",
          "model_module_version": "1.5.0",
          "state": {
            "_model_module": "@jupyter-widgets/controls",
            "_model_module_version": "1.5.0",
            "_model_name": "ProgressStyleModel",
            "_view_count": null,
            "_view_module": "@jupyter-widgets/base",
            "_view_module_version": "1.2.0",
            "_view_name": "StyleView",
            "bar_color": null,
            "description_width": "initial"
          }
        },
        "d73986cd4908426baf800f8f256991e5": {
          "model_module": "@jupyter-widgets/base",
          "model_name": "LayoutModel",
          "model_module_version": "1.2.0",
          "state": {
            "_model_module": "@jupyter-widgets/base",
            "_model_module_version": "1.2.0",
            "_model_name": "LayoutModel",
            "_view_count": null,
            "_view_module": "@jupyter-widgets/base",
            "_view_module_version": "1.2.0",
            "_view_name": "LayoutView",
            "align_content": null,
            "align_items": null,
            "align_self": null,
            "border": null,
            "bottom": null,
            "display": null,
            "flex": null,
            "flex_flow": null,
            "grid_area": null,
            "grid_auto_columns": null,
            "grid_auto_flow": null,
            "grid_auto_rows": null,
            "grid_column": null,
            "grid_gap": null,
            "grid_row": null,
            "grid_template_areas": null,
            "grid_template_columns": null,
            "grid_template_rows": null,
            "height": null,
            "justify_content": null,
            "justify_items": null,
            "left": null,
            "margin": null,
            "max_height": null,
            "max_width": null,
            "min_height": null,
            "min_width": null,
            "object_fit": null,
            "object_position": null,
            "order": null,
            "overflow": null,
            "overflow_x": null,
            "overflow_y": null,
            "padding": null,
            "right": null,
            "top": null,
            "visibility": null,
            "width": null
          }
        },
        "a2d5ead55d6b43a9922814424a5af1d9": {
          "model_module": "@jupyter-widgets/controls",
          "model_name": "DescriptionStyleModel",
          "model_module_version": "1.5.0",
          "state": {
            "_model_module": "@jupyter-widgets/controls",
            "_model_module_version": "1.5.0",
            "_model_name": "DescriptionStyleModel",
            "_view_count": null,
            "_view_module": "@jupyter-widgets/base",
            "_view_module_version": "1.2.0",
            "_view_name": "StyleView",
            "description_width": ""
          }
        },
        "0e054fd9e6534cf18fdcaa62fcb8be90": {
          "model_module": "@jupyter-widgets/controls",
          "model_name": "HBoxModel",
          "model_module_version": "1.5.0",
          "state": {
            "_dom_classes": [],
            "_model_module": "@jupyter-widgets/controls",
            "_model_module_version": "1.5.0",
            "_model_name": "HBoxModel",
            "_view_count": null,
            "_view_module": "@jupyter-widgets/controls",
            "_view_module_version": "1.5.0",
            "_view_name": "HBoxView",
            "box_style": "",
            "children": [
              "IPY_MODEL_ebb928c0870c44d58d5ca7dda14a758c",
              "IPY_MODEL_4540ccdfb2db44a3874b6d633235b79d"
            ],
            "layout": "IPY_MODEL_aac52908c3d74edc9a614d047ead4e3d"
          }
        },
        "ebb928c0870c44d58d5ca7dda14a758c": {
          "model_module": "@jupyter-widgets/controls",
          "model_name": "FloatProgressModel",
          "model_module_version": "1.5.0",
          "state": {
            "_dom_classes": [],
            "_model_module": "@jupyter-widgets/controls",
            "_model_module_version": "1.5.0",
            "_model_name": "FloatProgressModel",
            "_view_count": null,
            "_view_module": "@jupyter-widgets/controls",
            "_view_module_version": "1.5.0",
            "_view_name": "ProgressView",
            "bar_style": "success",
            "description": "Downloading: 100%",
            "description_tooltip": null,
            "layout": "IPY_MODEL_aaa17abd048d47028bfdf1f9801f4de9",
            "max": 150,
            "min": 0,
            "orientation": "horizontal",
            "style": "IPY_MODEL_981696f69e3e477586bba34d048b2e7c",
            "value": 150
          }
        },
        "4540ccdfb2db44a3874b6d633235b79d": {
          "model_module": "@jupyter-widgets/controls",
          "model_name": "HTMLModel",
          "model_module_version": "1.5.0",
          "state": {
            "_dom_classes": [],
            "_model_module": "@jupyter-widgets/controls",
            "_model_module_version": "1.5.0",
            "_model_name": "HTMLModel",
            "_view_count": null,
            "_view_module": "@jupyter-widgets/controls",
            "_view_module_version": "1.5.0",
            "_view_name": "HTMLView",
            "description": "",
            "description_tooltip": null,
            "layout": "IPY_MODEL_52b9d1c807234342a2db537aa514cf79",
            "placeholder": "​",
            "style": "IPY_MODEL_e342bd32cb5b4d7480edd8d37a8ba37a",
            "value": " 150/150 [00:01&lt;00:00, 77.7B/s]"
          }
        },
        "aac52908c3d74edc9a614d047ead4e3d": {
          "model_module": "@jupyter-widgets/base",
          "model_name": "LayoutModel",
          "model_module_version": "1.2.0",
          "state": {
            "_model_module": "@jupyter-widgets/base",
            "_model_module_version": "1.2.0",
            "_model_name": "LayoutModel",
            "_view_count": null,
            "_view_module": "@jupyter-widgets/base",
            "_view_module_version": "1.2.0",
            "_view_name": "LayoutView",
            "align_content": null,
            "align_items": null,
            "align_self": null,
            "border": null,
            "bottom": null,
            "display": null,
            "flex": null,
            "flex_flow": null,
            "grid_area": null,
            "grid_auto_columns": null,
            "grid_auto_flow": null,
            "grid_auto_rows": null,
            "grid_column": null,
            "grid_gap": null,
            "grid_row": null,
            "grid_template_areas": null,
            "grid_template_columns": null,
            "grid_template_rows": null,
            "height": null,
            "justify_content": null,
            "justify_items": null,
            "left": null,
            "margin": null,
            "max_height": null,
            "max_width": null,
            "min_height": null,
            "min_width": null,
            "object_fit": null,
            "object_position": null,
            "order": null,
            "overflow": null,
            "overflow_x": null,
            "overflow_y": null,
            "padding": null,
            "right": null,
            "top": null,
            "visibility": null,
            "width": null
          }
        },
        "aaa17abd048d47028bfdf1f9801f4de9": {
          "model_module": "@jupyter-widgets/base",
          "model_name": "LayoutModel",
          "model_module_version": "1.2.0",
          "state": {
            "_model_module": "@jupyter-widgets/base",
            "_model_module_version": "1.2.0",
            "_model_name": "LayoutModel",
            "_view_count": null,
            "_view_module": "@jupyter-widgets/base",
            "_view_module_version": "1.2.0",
            "_view_name": "LayoutView",
            "align_content": null,
            "align_items": null,
            "align_self": null,
            "border": null,
            "bottom": null,
            "display": null,
            "flex": null,
            "flex_flow": null,
            "grid_area": null,
            "grid_auto_columns": null,
            "grid_auto_flow": null,
            "grid_auto_rows": null,
            "grid_column": null,
            "grid_gap": null,
            "grid_row": null,
            "grid_template_areas": null,
            "grid_template_columns": null,
            "grid_template_rows": null,
            "height": null,
            "justify_content": null,
            "justify_items": null,
            "left": null,
            "margin": null,
            "max_height": null,
            "max_width": null,
            "min_height": null,
            "min_width": null,
            "object_fit": null,
            "object_position": null,
            "order": null,
            "overflow": null,
            "overflow_x": null,
            "overflow_y": null,
            "padding": null,
            "right": null,
            "top": null,
            "visibility": null,
            "width": null
          }
        },
        "981696f69e3e477586bba34d048b2e7c": {
          "model_module": "@jupyter-widgets/controls",
          "model_name": "ProgressStyleModel",
          "model_module_version": "1.5.0",
          "state": {
            "_model_module": "@jupyter-widgets/controls",
            "_model_module_version": "1.5.0",
            "_model_name": "ProgressStyleModel",
            "_view_count": null,
            "_view_module": "@jupyter-widgets/base",
            "_view_module_version": "1.2.0",
            "_view_name": "StyleView",
            "bar_color": null,
            "description_width": "initial"
          }
        },
        "52b9d1c807234342a2db537aa514cf79": {
          "model_module": "@jupyter-widgets/base",
          "model_name": "LayoutModel",
          "model_module_version": "1.2.0",
          "state": {
            "_model_module": "@jupyter-widgets/base",
            "_model_module_version": "1.2.0",
            "_model_name": "LayoutModel",
            "_view_count": null,
            "_view_module": "@jupyter-widgets/base",
            "_view_module_version": "1.2.0",
            "_view_name": "LayoutView",
            "align_content": null,
            "align_items": null,
            "align_self": null,
            "border": null,
            "bottom": null,
            "display": null,
            "flex": null,
            "flex_flow": null,
            "grid_area": null,
            "grid_auto_columns": null,
            "grid_auto_flow": null,
            "grid_auto_rows": null,
            "grid_column": null,
            "grid_gap": null,
            "grid_row": null,
            "grid_template_areas": null,
            "grid_template_columns": null,
            "grid_template_rows": null,
            "height": null,
            "justify_content": null,
            "justify_items": null,
            "left": null,
            "margin": null,
            "max_height": null,
            "max_width": null,
            "min_height": null,
            "min_width": null,
            "object_fit": null,
            "object_position": null,
            "order": null,
            "overflow": null,
            "overflow_x": null,
            "overflow_y": null,
            "padding": null,
            "right": null,
            "top": null,
            "visibility": null,
            "width": null
          }
        },
        "e342bd32cb5b4d7480edd8d37a8ba37a": {
          "model_module": "@jupyter-widgets/controls",
          "model_name": "DescriptionStyleModel",
          "model_module_version": "1.5.0",
          "state": {
            "_model_module": "@jupyter-widgets/controls",
            "_model_module_version": "1.5.0",
            "_model_name": "DescriptionStyleModel",
            "_view_count": null,
            "_view_module": "@jupyter-widgets/base",
            "_view_module_version": "1.2.0",
            "_view_name": "StyleView",
            "description_width": ""
          }
        },
        "40abe4cf4ca041d298e8a18f5eb43ade": {
          "model_module": "@jupyter-widgets/controls",
          "model_name": "HBoxModel",
          "model_module_version": "1.5.0",
          "state": {
            "_dom_classes": [],
            "_model_module": "@jupyter-widgets/controls",
            "_model_module_version": "1.5.0",
            "_model_name": "HBoxModel",
            "_view_count": null,
            "_view_module": "@jupyter-widgets/controls",
            "_view_module_version": "1.5.0",
            "_view_name": "HBoxView",
            "box_style": "",
            "children": [
              "IPY_MODEL_f194e5f9d25046749ca007255237c601",
              "IPY_MODEL_864bb15ace8c49c0b736f21a328a5d46"
            ],
            "layout": "IPY_MODEL_881289e3261947c0a8c476b314d8bb9d"
          }
        },
        "f194e5f9d25046749ca007255237c601": {
          "model_module": "@jupyter-widgets/controls",
          "model_name": "FloatProgressModel",
          "model_module_version": "1.5.0",
          "state": {
            "_dom_classes": [],
            "_model_module": "@jupyter-widgets/controls",
            "_model_module_version": "1.5.0",
            "_model_name": "FloatProgressModel",
            "_view_count": null,
            "_view_module": "@jupyter-widgets/controls",
            "_view_module_version": "1.5.0",
            "_view_name": "ProgressView",
            "bar_style": "success",
            "description": "Downloading: 100%",
            "description_tooltip": null,
            "layout": "IPY_MODEL_eca1ee272c324f55836eacc1c31ff602",
            "max": 2,
            "min": 0,
            "orientation": "horizontal",
            "style": "IPY_MODEL_08403ece3cec483fa26c71b20eeae794",
            "value": 2
          }
        },
        "864bb15ace8c49c0b736f21a328a5d46": {
          "model_module": "@jupyter-widgets/controls",
          "model_name": "HTMLModel",
          "model_module_version": "1.5.0",
          "state": {
            "_dom_classes": [],
            "_model_module": "@jupyter-widgets/controls",
            "_model_module_version": "1.5.0",
            "_model_name": "HTMLModel",
            "_view_count": null,
            "_view_module": "@jupyter-widgets/controls",
            "_view_module_version": "1.5.0",
            "_view_name": "HTMLView",
            "description": "",
            "description_tooltip": null,
            "layout": "IPY_MODEL_1cff347105074d438960ac050fd5d71b",
            "placeholder": "​",
            "style": "IPY_MODEL_552928560dfc42cfa973643aee3a0151",
            "value": " 2.00/2.00 [00:00&lt;00:00, 4.22B/s]"
          }
        },
        "881289e3261947c0a8c476b314d8bb9d": {
          "model_module": "@jupyter-widgets/base",
          "model_name": "LayoutModel",
          "model_module_version": "1.2.0",
          "state": {
            "_model_module": "@jupyter-widgets/base",
            "_model_module_version": "1.2.0",
            "_model_name": "LayoutModel",
            "_view_count": null,
            "_view_module": "@jupyter-widgets/base",
            "_view_module_version": "1.2.0",
            "_view_name": "LayoutView",
            "align_content": null,
            "align_items": null,
            "align_self": null,
            "border": null,
            "bottom": null,
            "display": null,
            "flex": null,
            "flex_flow": null,
            "grid_area": null,
            "grid_auto_columns": null,
            "grid_auto_flow": null,
            "grid_auto_rows": null,
            "grid_column": null,
            "grid_gap": null,
            "grid_row": null,
            "grid_template_areas": null,
            "grid_template_columns": null,
            "grid_template_rows": null,
            "height": null,
            "justify_content": null,
            "justify_items": null,
            "left": null,
            "margin": null,
            "max_height": null,
            "max_width": null,
            "min_height": null,
            "min_width": null,
            "object_fit": null,
            "object_position": null,
            "order": null,
            "overflow": null,
            "overflow_x": null,
            "overflow_y": null,
            "padding": null,
            "right": null,
            "top": null,
            "visibility": null,
            "width": null
          }
        },
        "eca1ee272c324f55836eacc1c31ff602": {
          "model_module": "@jupyter-widgets/base",
          "model_name": "LayoutModel",
          "model_module_version": "1.2.0",
          "state": {
            "_model_module": "@jupyter-widgets/base",
            "_model_module_version": "1.2.0",
            "_model_name": "LayoutModel",
            "_view_count": null,
            "_view_module": "@jupyter-widgets/base",
            "_view_module_version": "1.2.0",
            "_view_name": "LayoutView",
            "align_content": null,
            "align_items": null,
            "align_self": null,
            "border": null,
            "bottom": null,
            "display": null,
            "flex": null,
            "flex_flow": null,
            "grid_area": null,
            "grid_auto_columns": null,
            "grid_auto_flow": null,
            "grid_auto_rows": null,
            "grid_column": null,
            "grid_gap": null,
            "grid_row": null,
            "grid_template_areas": null,
            "grid_template_columns": null,
            "grid_template_rows": null,
            "height": null,
            "justify_content": null,
            "justify_items": null,
            "left": null,
            "margin": null,
            "max_height": null,
            "max_width": null,
            "min_height": null,
            "min_width": null,
            "object_fit": null,
            "object_position": null,
            "order": null,
            "overflow": null,
            "overflow_x": null,
            "overflow_y": null,
            "padding": null,
            "right": null,
            "top": null,
            "visibility": null,
            "width": null
          }
        },
        "08403ece3cec483fa26c71b20eeae794": {
          "model_module": "@jupyter-widgets/controls",
          "model_name": "ProgressStyleModel",
          "model_module_version": "1.5.0",
          "state": {
            "_model_module": "@jupyter-widgets/controls",
            "_model_module_version": "1.5.0",
            "_model_name": "ProgressStyleModel",
            "_view_count": null,
            "_view_module": "@jupyter-widgets/base",
            "_view_module_version": "1.2.0",
            "_view_name": "StyleView",
            "bar_color": null,
            "description_width": "initial"
          }
        },
        "1cff347105074d438960ac050fd5d71b": {
          "model_module": "@jupyter-widgets/base",
          "model_name": "LayoutModel",
          "model_module_version": "1.2.0",
          "state": {
            "_model_module": "@jupyter-widgets/base",
            "_model_module_version": "1.2.0",
            "_model_name": "LayoutModel",
            "_view_count": null,
            "_view_module": "@jupyter-widgets/base",
            "_view_module_version": "1.2.0",
            "_view_name": "LayoutView",
            "align_content": null,
            "align_items": null,
            "align_self": null,
            "border": null,
            "bottom": null,
            "display": null,
            "flex": null,
            "flex_flow": null,
            "grid_area": null,
            "grid_auto_columns": null,
            "grid_auto_flow": null,
            "grid_auto_rows": null,
            "grid_column": null,
            "grid_gap": null,
            "grid_row": null,
            "grid_template_areas": null,
            "grid_template_columns": null,
            "grid_template_rows": null,
            "height": null,
            "justify_content": null,
            "justify_items": null,
            "left": null,
            "margin": null,
            "max_height": null,
            "max_width": null,
            "min_height": null,
            "min_width": null,
            "object_fit": null,
            "object_position": null,
            "order": null,
            "overflow": null,
            "overflow_x": null,
            "overflow_y": null,
            "padding": null,
            "right": null,
            "top": null,
            "visibility": null,
            "width": null
          }
        },
        "552928560dfc42cfa973643aee3a0151": {
          "model_module": "@jupyter-widgets/controls",
          "model_name": "DescriptionStyleModel",
          "model_module_version": "1.5.0",
          "state": {
            "_model_module": "@jupyter-widgets/controls",
            "_model_module_version": "1.5.0",
            "_model_name": "DescriptionStyleModel",
            "_view_count": null,
            "_view_module": "@jupyter-widgets/base",
            "_view_module_version": "1.2.0",
            "_view_name": "StyleView",
            "description_width": ""
          }
        }
      }
    }
  },
  "cells": [
    {
      "cell_type": "code",
      "metadata": {
        "id": "kV5_I5PoWnmT"
      },
      "source": [
        "!pip install transformers"
      ],
      "execution_count": null,
      "outputs": []
    },
    {
      "cell_type": "code",
      "metadata": {
        "id": "XNYJVzyMWnkL"
      },
      "source": [
        "!pip install datasets"
      ],
      "execution_count": null,
      "outputs": []
    },
    {
      "cell_type": "code",
      "metadata": {
        "id": "98dFQHuuWnh9"
      },
      "source": [
        "!pip install seqeval"
      ],
      "execution_count": null,
      "outputs": []
    },
    {
      "cell_type": "code",
      "metadata": {
        "id": "Ahr-ENIQWndE"
      },
      "source": [
        "# Used to automatically convert slow tokenizer to fast tokenizer\n",
        "!pip install sentencepiece"
      ],
      "execution_count": null,
      "outputs": []
    },
    {
      "cell_type": "code",
      "metadata": {
        "id": "csata2jGWnaW"
      },
      "source": [
        "from google.colab import drive\n",
        "drive.mount('/content/drive')"
      ],
      "execution_count": null,
      "outputs": []
    },
    {
      "cell_type": "code",
      "metadata": {
        "id": "Rl2PBuwPWnX0"
      },
      "source": [
        "import numpy as np\n",
        "import pandas as pd\n",
        "import tensorflow as tf\n",
        "\n",
        "from datasets import Features, ClassLabel, Sequence, load_metric\n",
        "from tensorflow.data import Dataset\n",
        "\n",
        "from transformers import AutoConfig, AutoTokenizer, TFAutoModelForTokenClassification\n",
        "from transformers import BertConfig, BertTokenizer, BertForTokenClassification\n",
        "from transformers import TFTrainingArguments, TFTrainer\n",
        "from transformers import DataCollatorForTokenClassification"
      ],
      "execution_count": null,
      "outputs": []
    },
    {
      "cell_type": "code",
      "metadata": {
        "id": "LBX8kyOAWnL3"
      },
      "source": [
        "LABEL_MAP = {\n",
        "    \"LOC\": 0,\n",
        "    \"ORG\": 1,\n",
        "    \"PER\": 2,\n",
        "    \"O\": 3,\n",
        "    \"IDENTIFIER_LATITUDE_LONGITUDE\": 4,\n",
        "    \"TITLE\": 5,\n",
        "    \"NATIONALITY\": 6,\n",
        "    \"TEMPORAL_DATE\": 7,\n",
        "    \"TEMPORAL_TIME\": 8,\n",
        "    \"PRODUCT\": 9,\n",
        "    \"RELIGION\": 10,\n",
        "    \"IDENTIFIER_MONEY\": 11,\n",
        "    \"IDENTIFIER_URL\": 12,\n",
        "    \"IDENTIFIER_DISTANCE\": 13,\n",
        "    \"IDENTIFIER_EMAIL\": 14,\n",
        "    \"IDENTIFIER_PHONE_NUMBER\": 15,\n",
        "    \"IDENTIFIER_NUMBER\": 16\n",
        "}\n",
        "\n",
        "LABEL_LIST = list(LABEL_MAP.keys())\n",
        "\n",
        "INPUT_FILE_TRAIN = \"/content/drive/MyDrive/datasets/ron_ner_train_5.txt\"\n",
        "INPUT_FILE_VALIDATION = \"/content/drive/MyDrive/datasets/ron_ner_test_5.txt\"\n",
        "OUTPUT_DIR = \"test-ner\"\n",
        "\n",
        "BATCH_SIZE = 16\n",
        "MODEL_CHECKPOINT = \"jplu/tf-xlm-r-ner-40-lang\"\n",
        "# MODEL_CHECKPOINT = \"distilbert-base-uncased\"\n",
        "TASK = \"ner\""
      ],
      "execution_count": null,
      "outputs": []
    },
    {
      "cell_type": "code",
      "metadata": {
        "id": "vGuJTcnjW8sw"
      },
      "source": [
        "unique_tags = LABEL_LIST\n",
        "tag2id = LABEL_MAP\n",
        "id2tag = {id: tag for tag, id in tag2id.items()}"
      ],
      "execution_count": null,
      "outputs": []
    },
    {
      "cell_type": "code",
      "metadata": {
        "id": "3X7vsJ9DW8qZ"
      },
      "source": [
        "def migration(lines):\n",
        "    result = []\n",
        "\n",
        "    for line in lines:\n",
        "        # line = line.replace(\"'\", \" '\")\n",
        "        words = line.split()\n",
        "        words_utterance = []\n",
        "        words_tag = []\n",
        "        replacement = \"O\"\n",
        "\n",
        "        for word in words:\n",
        "            if \"<START:\" in word:\n",
        "                replacement = word.replace(\"<START:\", \"\").replace(\">\", \"\")\n",
        "                # replacement = \"B-\" + replacement\n",
        "                replacement = replacement.replace(\"PERSON\", \"PER\")\n",
        "                replacement = replacement.replace(\"LOCATION\", \"LOC\")\n",
        "                replacement = replacement.replace(\"ORGANIZATION\", \"ORG\")\n",
        "                continue\n",
        "            if \"<END>\" in word:\n",
        "                replacement = \"O\"\n",
        "                continue\n",
        "\n",
        "            words_utterance.append(word)\n",
        "            # words_tag.append(LABEL_MAP[replacement] if replacement in LABEL_MAP else LABEL_MAP[\"O\"])\n",
        "            words_tag.append(replacement)\n",
        "\n",
        "            # if replacement[:2] == \"B-\":\n",
        "            #     replacement = \"I-\" + replacement[2:]\n",
        "\n",
        "        result.append({\"tokens\": words_utterance, \"ner_tags\": words_tag})\n",
        "\n",
        "    return result"
      ],
      "execution_count": null,
      "outputs": []
    },
    {
      "cell_type": "markdown",
      "metadata": {
        "id": "Lb7fl-aTJkjS"
      },
      "source": [
        "DATA"
      ]
    },
    {
      "cell_type": "code",
      "metadata": {
        "colab": {
          "base_uri": "https://localhost:8080/"
        },
        "id": "MHuvra75W8oA",
        "outputId": "a212629c-2329-4233-81dd-af319478cc11"
      },
      "source": [
        "data_train = []\n",
        "data_train_clean = []\n",
        "\n",
        "with open(INPUT_FILE_TRAIN, \"r\") as f:\n",
        "    data_train = f.read().splitlines()\n",
        "\n",
        "for line in data_train:\n",
        "  if len(line) < 1000:\n",
        "      data_train_clean.append(line)\n",
        "\n",
        "data_migrated_train = migration(data_train_clean)\n",
        "train_texts = [item[\"tokens\"] for item in data_migrated_train]\n",
        "train_tags = [item[\"ner_tags\"] for item in data_migrated_train]\n",
        "\n",
        "\n",
        "data_validation = []\n",
        "data_validation_clean = []\n",
        "\n",
        "with open(INPUT_FILE_VALIDATION, \"r\") as f:\n",
        "    data_validation = f.read().splitlines()\n",
        "\n",
        "for line in data_validation:\n",
        "  if len(line) < 1000:\n",
        "      data_validation_clean.append(line)\n",
        "  \n",
        "print(len(data_train))\n",
        "print(len(data_validation))\n",
        "print()\n",
        "print(len(data_train_clean))\n",
        "print(len(data_validation_clean))\n",
        "\n",
        "data_migrated_validation = migration(data_validation_clean)\n",
        "validation_texts = [item[\"tokens\"] for item in data_migrated_validation]\n",
        "validation_tags = [item[\"ner_tags\"] for item in data_migrated_validation]"
      ],
      "execution_count": null,
      "outputs": [
        {
          "output_type": "stream",
          "text": [
            "83007\n",
            "7977\n",
            "\n",
            "82923\n",
            "7941\n"
          ],
          "name": "stdout"
        }
      ]
    },
    {
      "cell_type": "markdown",
      "metadata": {
        "id": "ejFx41mxJhao"
      },
      "source": [
        "TOKENIZER"
      ]
    },
    {
      "cell_type": "code",
      "metadata": {
        "colab": {
          "base_uri": "https://localhost:8080/",
          "height": 250,
          "referenced_widgets": [
            "ffaae30d401f406da5426dcba1f07387",
            "ca516745661c4a73aaec8e94dba92a6e",
            "d5c46ba872574673bf13b7bd77712617",
            "ece012ff9a83446e993f38507db4d43b",
            "0c36ec1d87e14fceb9e39939fbe74004",
            "daf8511045b8444a88d211b224ff7b54",
            "9cf9669616474702b31a702612e3b717",
            "f575e05cd5844108917d4055600e08f3",
            "785c8a620ac240618701d8908d1b4098",
            "1d7ecdb047b648a4b1bfccfbdd2cdbb0",
            "a2f80582bb7b41a19ba348f4bcbf83e7",
            "451d6985a9ef4eda83cbe48d69d63585",
            "a3a00624eca543f8b7c1c307ee609b97",
            "b4eb49a58cc3429f98dd2f56cb13bd95",
            "d73986cd4908426baf800f8f256991e5",
            "a2d5ead55d6b43a9922814424a5af1d9",
            "0e054fd9e6534cf18fdcaa62fcb8be90",
            "ebb928c0870c44d58d5ca7dda14a758c",
            "4540ccdfb2db44a3874b6d633235b79d",
            "aac52908c3d74edc9a614d047ead4e3d",
            "aaa17abd048d47028bfdf1f9801f4de9",
            "981696f69e3e477586bba34d048b2e7c",
            "52b9d1c807234342a2db537aa514cf79",
            "e342bd32cb5b4d7480edd8d37a8ba37a",
            "40abe4cf4ca041d298e8a18f5eb43ade",
            "f194e5f9d25046749ca007255237c601",
            "864bb15ace8c49c0b736f21a328a5d46",
            "881289e3261947c0a8c476b314d8bb9d",
            "eca1ee272c324f55836eacc1c31ff602",
            "08403ece3cec483fa26c71b20eeae794",
            "1cff347105074d438960ac050fd5d71b",
            "552928560dfc42cfa973643aee3a0151"
          ]
        },
        "id": "hCMcJ1evW8lp",
        "outputId": "6e2ba851-dd35-450f-b935-fa7940005902"
      },
      "source": [
        "tokenizer = AutoTokenizer.from_pretrained(MODEL_CHECKPOINT)\n",
        "\n",
        "train_encodings = tokenizer(train_texts, is_split_into_words=True, padding=True, truncation=True)\n",
        "validation_encodings = tokenizer(validation_texts, is_split_into_words=True, padding=True, truncation=True)"
      ],
      "execution_count": null,
      "outputs": [
        {
          "output_type": "display_data",
          "data": {
            "application/vnd.jupyter.widget-view+json": {
              "model_id": "ffaae30d401f406da5426dcba1f07387",
              "version_major": 2,
              "version_minor": 0
            },
            "text/plain": [
              "HBox(children=(FloatProgress(value=0.0, description='Downloading', max=699.0, style=ProgressStyle(description_…"
            ]
          },
          "metadata": {
            "tags": []
          }
        },
        {
          "output_type": "stream",
          "text": [
            "\n"
          ],
          "name": "stdout"
        },
        {
          "output_type": "display_data",
          "data": {
            "application/vnd.jupyter.widget-view+json": {
              "model_id": "785c8a620ac240618701d8908d1b4098",
              "version_major": 2,
              "version_minor": 0
            },
            "text/plain": [
              "HBox(children=(FloatProgress(value=0.0, description='Downloading', max=5069051.0, style=ProgressStyle(descript…"
            ]
          },
          "metadata": {
            "tags": []
          }
        },
        {
          "output_type": "stream",
          "text": [
            "\n"
          ],
          "name": "stdout"
        },
        {
          "output_type": "display_data",
          "data": {
            "application/vnd.jupyter.widget-view+json": {
              "model_id": "0e054fd9e6534cf18fdcaa62fcb8be90",
              "version_major": 2,
              "version_minor": 0
            },
            "text/plain": [
              "HBox(children=(FloatProgress(value=0.0, description='Downloading', max=150.0, style=ProgressStyle(description_…"
            ]
          },
          "metadata": {
            "tags": []
          }
        },
        {
          "output_type": "stream",
          "text": [
            "\n"
          ],
          "name": "stdout"
        },
        {
          "output_type": "display_data",
          "data": {
            "application/vnd.jupyter.widget-view+json": {
              "model_id": "40abe4cf4ca041d298e8a18f5eb43ade",
              "version_major": 2,
              "version_minor": 0
            },
            "text/plain": [
              "HBox(children=(FloatProgress(value=0.0, description='Downloading', max=2.0, style=ProgressStyle(description_wi…"
            ]
          },
          "metadata": {
            "tags": []
          }
        },
        {
          "output_type": "stream",
          "text": [
            "\n"
          ],
          "name": "stdout"
        },
        {
          "output_type": "stream",
          "text": [
            "Asking to truncate to max_length but no maximum length is provided and the model has no predefined maximum length. Default to no truncation.\n"
          ],
          "name": "stderr"
        }
      ]
    },
    {
      "cell_type": "code",
      "metadata": {
        "id": "1A2OyrYCW8jM"
      },
      "source": [
        "# Sample:\n",
        "# Sentence: ['În', 'dimineaţa', 'de', '24', 'ianuarie,', 'la', '29°', ',', 'am', 'zărit', 'insula', 'Keeling,', 'ridicătură', 'madreporică', 'plină', 'de', 'cocotieri', 'minunaţi,', 'care', 'a', 'fost', 'vizitată', 'de', 'Darwin', 'şi', 'de', 'căpitanul', 'Fitz-Roy.']\n",
        "# Tags: ['O', 'O', 'O', 'O', 'O', 'O', 'IDENTIFIER_LATITUDE_LONGITUDE', 'O', 'O', 'O', 'O', 'O', 'O', 'O', 'O', 'O', 'O', 'O', 'O', 'O', 'O', 'O', 'O', 'O', 'O', 'O', 'O', 'O']\n",
        "# Tokens: ['<s>', '▁În', '▁di', 'mine', 'a', 'ţa', '▁de', '▁24', '▁ianuarie', ',', '▁la', '▁29', '°', '▁', ',', '▁am', '▁z', 'ări', 't', '▁insula', '▁Ke', 'eling', ',', '▁ridic', 'ătură', '▁madre', 'por', 'ică', '▁plină', '▁de', '▁coco', 'tier', 'i', '▁minun', 'aţi', ',', '▁care', '▁a', '▁fost', '▁vizitat', 'ă', '▁de', '▁Darwin', '▁şi', '▁de', '▁că', 'pitan', 'ul', '▁Fit', 'z', '-', 'Ro', 'y', '.', '</s>']\n",
        "# Word Ids: [None, 0, 1, 1, 1, 1, 2, 3, 4, 4, 5, 6, 6, 7, 7, 8, 9, 9, 9, 10, 11, 11, 11, 12, 12, 13, 13, 13, 14, 15, 16, 16, 16, 17, 17, 17, 18, 19, 20, 21, 21, 22, 23, 24, 25, 26, 26, 26, 27, 27, 27, 27, 27, 27, None]\n",
        "# Encoded Tags: [-100, 3, 3, 3, 3, 3, 3, 3, 3, 3, 3, 4, 4, 3, 3, 3, 3, 3, 3, 3, 3, 3, 3, 3, 3, 3, 3, 3, 3, 3, 3, 3, 3, 3, 3, 3, 3, 3, 3, 3, 3, 3, 3, 3, 3, 3, 3, 3, 3, 3, 3, 3, 3, 3, -100]\n",
        "\n",
        "\n",
        "def encode_tags(input_ner_tags, input_tokens):\n",
        "    label_all_tokens = True\n",
        "    result = []\n",
        "\n",
        "    for i, ner_tags in enumerate(input_ner_tags):\n",
        "        ner_ids = [tag2id[f\"{tag}\"] for tag in ner_tags]\n",
        "        word_ids = input_tokens.word_ids(batch_index=i)\n",
        "\n",
        "        encoded_ner_ids = []\n",
        "        previous_word_id = None\n",
        "        for word_id in word_ids:\n",
        "            # Special tokens have a word id that is None. We set the label to -100\n",
        "            # so they are automatically ignored in the loss function.\n",
        "            if word_id is None:\n",
        "                encoded_ner_ids.append(-100)\n",
        "            # We set the label for the first token of each word.\n",
        "            elif word_id != previous_word_id:\n",
        "                encoded_ner_ids.append(ner_ids[word_id])\n",
        "            # For the other tokens in a word, we set the label to either\n",
        "            # the current label or -100, depending on the label_all_tokens flag.\n",
        "            else:\n",
        "                encoded_ner_ids.append(ner_ids[word_id] if label_all_tokens else -100)\n",
        "            previous_word_id = word_id\n",
        "\n",
        "        result.append(encoded_ner_ids)\n",
        "\n",
        "    return result\n",
        "\n",
        "train_labels = encode_tags(train_tags, train_encodings)\n",
        "validation_labels = encode_tags(validation_tags, validation_encodings)"
      ],
      "execution_count": null,
      "outputs": []
    },
    {
      "cell_type": "code",
      "metadata": {
        "id": "1z6p9Vfl5Jhq"
      },
      "source": [
        "train_dataset = tf.data.Dataset.from_tensor_slices((\n",
        "    dict(train_encodings),\n",
        "    train_labels\n",
        "))\n",
        "\n",
        "validation_dataset = tf.data.Dataset.from_tensor_slices((\n",
        "    dict(validation_encodings),\n",
        "    validation_labels\n",
        "))"
      ],
      "execution_count": null,
      "outputs": []
    },
    {
      "cell_type": "markdown",
      "metadata": {
        "id": "5847IzsHIxoU"
      },
      "source": [
        "MODEL"
      ]
    },
    {
      "cell_type": "code",
      "metadata": {
        "id": "p7ZV6qVsIw9y"
      },
      "source": [
        "args = TFTrainingArguments(\n",
        "    \n",
        "    output_dir=OUTPUT_DIR + '/results',\n",
        "    # evaluation_strategy=\"epoch\",\n",
        "    # label_names= LABEL_LIST,\n",
        "    learning_rate=2e-5,\n",
        "    per_device_train_batch_size=BATCH_SIZE,\n",
        "    per_device_eval_batch_size=BATCH_SIZE,\n",
        "    num_train_epochs=3,\n",
        "    weight_decay=0.01,\n",
        "    save_steps=10000,\n",
        "    save_total_limit=3,\n",
        "\n",
        ")"
      ],
      "execution_count": null,
      "outputs": []
    },
    {
      "cell_type": "code",
      "metadata": {
        "id": "RXCenV0f5Jed"
      },
      "source": [
        "# model = TFAutoModelForTokenClassification.from_pretrained(MODEL_CHECKPOINT)\n",
        "\n",
        "with args.strategy.scope():\n",
        "    model = TFAutoModelForTokenClassification.from_pretrained(MODEL_CHECKPOINT)"
      ],
      "execution_count": null,
      "outputs": []
    },
    {
      "cell_type": "code",
      "metadata": {
        "id": "566Kjp9EW8ec"
      },
      "source": [
        "id2label = dict([(value, key) for key, value in LABEL_MAP.items()])\n",
        "\n",
        "config = AutoConfig.from_pretrained(\n",
        "    MODEL_CHECKPOINT,\n",
        "    num_labels=len(LABEL_LIST),\n",
        "    id2label=id2label,\n",
        "    label2id=LABEL_MAP\n",
        ")"
      ],
      "execution_count": null,
      "outputs": []
    },
    {
      "cell_type": "code",
      "metadata": {
        "id": "sv6Z8upwWm9b"
      },
      "source": [
        "# Reinitiallize the final classification layer to match new number of labels\n",
        "\n",
        "from transformers.modeling_tf_utils import get_initializer\n",
        "\n",
        "model.classifier = tf.keras.layers.Dense(\n",
        "                config.num_labels, kernel_initializer=get_initializer(config.initializer_range),\n",
        "                name=\"classifier\"\n",
        "            )\n",
        "\n",
        "model.config = config\n",
        "model.num_labels = config.num_labels"
      ],
      "execution_count": null,
      "outputs": []
    },
    {
      "cell_type": "code",
      "metadata": {
        "id": "RiQfpqsTo0FH"
      },
      "source": [
        "trainer = TFTrainer(  \n",
        "    model,\n",
        "    args,\n",
        "    train_dataset=train_dataset,\n",
        "    eval_dataset=validation_dataset,\n",
        "    # data_collator=data_collator,\n",
        "    # tokenizer=tokenizer,\n",
        "    # compute_metrics=compute_metrics,\n",
        ")"
      ],
      "execution_count": null,
      "outputs": []
    },
    {
      "cell_type": "code",
      "metadata": {
        "colab": {
          "background_save": true
        },
        "id": "cG7ZVWezYLNU"
      },
      "source": [
        "trainer.train()"
      ],
      "execution_count": null,
      "outputs": []
    },
    {
      "cell_type": "code",
      "metadata": {
        "id": "26Qm86oIYLLA"
      },
      "source": [
        "# trainer.evaluate()"
      ],
      "execution_count": null,
      "outputs": []
    },
    {
      "cell_type": "code",
      "metadata": {
        "id": "Ks3c-lyYK7cB"
      },
      "source": [
        "trainer.save_model(OUTPUT_DIR + '/model')"
      ],
      "execution_count": null,
      "outputs": []
    },
    {
      "cell_type": "code",
      "metadata": {
        "id": "yQbOF1XdLMU-"
      },
      "source": [
        "# !rm -rf test-ner "
      ],
      "execution_count": null,
      "outputs": []
    },
    {
      "cell_type": "code",
      "metadata": {
        "id": "BZL4uKVt02Y0"
      },
      "source": [
        "# !cp /content/test-ner/model/tf_model.h5 drive/MyDrive/tf_model.h5"
      ],
      "execution_count": null,
      "outputs": []
    },
    {
      "cell_type": "code",
      "metadata": {
        "id": "HA4DxUHzSfXU"
      },
      "source": [
        "# !cp /content/test-ner/model/config.json drive/MyDrive/config.json"
      ],
      "execution_count": null,
      "outputs": []
    }
  ]
}